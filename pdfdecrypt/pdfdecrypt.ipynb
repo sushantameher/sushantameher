{
 "cells": [
  {
   "cell_type": "code",
   "execution_count": 19,
   "metadata": {},
   "outputs": [
    {
     "name": "stdout",
     "output_type": "stream",
     "text": [
      "Decrypting file: 2022-01-17-contract-notes_YC8900.pdf [Done]\n",
      "Decrypting file: 2022-01-21-contract-notes_ZO2446.pdf [Done]\n",
      "Decrypting file: 2022-01-20-contract-notes_ZO2446.pdf [Done]\n",
      "Decrypting file: 2022-01-19-contract-notes_ZO2446.pdf [Done]\n"
     ]
    }
   ],
   "source": [
    "import pikepdf\n",
    "import os\n",
    "\n",
    "input_path = '/Users/smeher/code/sushantameher/pdfdecrypt/input'\n",
    "output_path = '/Users/smeher/code/sushantameher/pdfdecrypt/output'\n",
    "archive_path = '/Users/smeher/code/sushantameher/pdfdecrypt/input/archive'\n",
    "password_file = '/Users/smeher/code/sushantameher/pdfdecrypt/pwd.password'\n",
    "\n",
    "try:\n",
    "    with open(password_file,'r') as f:\n",
    "        password = f.read().splitlines()\n",
    "except Exception as err:\n",
    "    print('No password file found')\n",
    "\n",
    "for f in os.listdir(input_path):\n",
    "    if '.pdf' in f:\n",
    "        try:\n",
    "            print(f'Decrypting file: {f}', end='')\n",
    "            input_file = input_path + '/' + f\n",
    "            output_file = output_path + '/' + f\n",
    "            archive_file = archive_path + '/' + f\n",
    "            for pwd in password:\n",
    "                try:\n",
    "                    # print('Trying:', pwd)\n",
    "                    pdf = pikepdf.open(input_file, password=pwd)\n",
    "                    print(' [Done]')\n",
    "                    break\n",
    "                except Exception as err:\n",
    "                    continue\n",
    "            pdf.save(output_path + '/' + f)\n",
    "            os.replace(input_file, archive_file)\n",
    "        except Exception as err:\n",
    "            print(f'Error occured while decrypting {f}: {err}')\n",
    "            continue\n",
    "            \n",
    "\n",
    "\n",
    "\n",
    "\n"
   ]
  }
 ],
 "metadata": {
  "interpreter": {
   "hash": "4f158c58a461050883c457a0911101fa03478e64c4f9e799493e9d55b46d5f63"
  },
  "kernelspec": {
   "display_name": "Python 3.10.1 64-bit ('py310': conda)",
   "language": "python",
   "name": "python3"
  },
  "language_info": {
   "codemirror_mode": {
    "name": "ipython",
    "version": 3
   },
   "file_extension": ".py",
   "mimetype": "text/x-python",
   "name": "python",
   "nbconvert_exporter": "python",
   "pygments_lexer": "ipython3",
   "version": "3.10.1"
  },
  "orig_nbformat": 4
 },
 "nbformat": 4,
 "nbformat_minor": 2
}
